{
 "cells": [
  {
   "cell_type": "code",
   "execution_count": 3,
   "id": "7c6156c7",
   "metadata": {},
   "outputs": [
    {
     "ename": "OperationalError",
     "evalue": "table movie already exists",
     "output_type": "error",
     "traceback": [
      "\u001b[1;31m---------------------------------------------------------------------------\u001b[0m",
      "\u001b[1;31mOperationalError\u001b[0m                          Traceback (most recent call last)",
      "\u001b[1;32m~\\AppData\\Local\\Temp/ipykernel_6476/1358858670.py\u001b[0m in \u001b[0;36m<module>\u001b[1;34m\u001b[0m\n\u001b[0;32m      5\u001b[0m \u001b[1;33m\u001b[0m\u001b[0m\n\u001b[0;32m      6\u001b[0m \u001b[1;31m# Creating a table in the database\u001b[0m\u001b[1;33m\u001b[0m\u001b[1;33m\u001b[0m\u001b[0m\n\u001b[1;32m----> 7\u001b[1;33m \u001b[0mcur\u001b[0m\u001b[1;33m.\u001b[0m\u001b[0mexecute\u001b[0m\u001b[1;33m(\u001b[0m\u001b[1;34m'CREATE TABLE movie(year,title, genre)'\u001b[0m\u001b[1;33m)\u001b[0m\u001b[1;33m\u001b[0m\u001b[1;33m\u001b[0m\u001b[0m\n\u001b[0m\u001b[0;32m      8\u001b[0m \u001b[1;33m\u001b[0m\u001b[0m\n\u001b[0;32m      9\u001b[0m \u001b[1;31m# Creating a variable of all the movies\u001b[0m\u001b[1;33m\u001b[0m\u001b[1;33m\u001b[0m\u001b[0m\n",
      "\u001b[1;31mOperationalError\u001b[0m: table movie already exists"
     ]
    }
   ],
   "source": [
    "\n",
    "import sqlite3 \n",
    " \n",
    "con = sqlite3.connect('movies.db') \n",
    "cur = con.cursor() \n",
    " \n",
    "# Creating a table in the database \n",
    "cur.execute('CREATE TABLE movie(year,title, genre)') \n",
    " \n",
    "# Creating a variable of all the movies \n",
    "movie = [(2009, 'Brothers', 'Drama'),           \n",
    "          (2002, 'Spider-Man', 'Sci-fi'), \n",
    "          (2009, 'WatchMen', 'Drama'), \n",
    "          (2010, 'Inception', 'Sci-fi'), \n",
    "          (2009, 'Avatar', 'Fantasy')] \n",
    " \n",
    "cur .executemany('''INSERT INTO movies VALUES(?, ?, ?); ''', movie) \n",
    " \n",
    "# commit and close con.commit() con.close() \n",
    "con = sqlite3.connect('movies.db') \n",
    "cur = con.cursor() \n",
    " \n",
    "row = cur.fetchall() \n",
    "for row in cur.execute('SELECT * FROM Movie;'): \n",
    "    print(row)\n",
    "con = sqlite3.connect('movies.db') \n",
    "cur = con.cursor() \n",
    " \n",
    "row = cur.fetchall() \n",
    "for row in cur.execute('SELECT * FROM Movie;'): \n",
    "    print(row)\n",
    "con = sqlite3.connect('movies.db') \n",
    "cur = con.cursor() \n",
    " \n",
    "row = cur.fetchall() \n",
    "for row in cur.execute('SELECT * FROM Movie WHERE ' \n",
    "                       'title =\"Brothers\";'): \n",
    "    print(row) \n",
    "con = sqlite3.connect('movies.db') \n",
    "cur = con.cursor() \n",
    " \n",
    "row = cur.fetchall() \n",
    "for row in cur.execute('SELECT * FROM Movie WHERE ' \n",
    "                       'year = 2009'): \n",
    "    print(row) \n",
    "con = sqlite3.connect('movies.db') \n",
    "cur = con.cursor() \n",
    "cur.execute('DELETE FROM movie;') \n",
    "con.commit() \n"
   ]
  },
  {
   "cell_type": "code",
   "execution_count": null,
   "id": "2cd1c0f7",
   "metadata": {},
   "outputs": [],
   "source": []
  }
 ],
 "metadata": {
  "kernelspec": {
   "display_name": "Python 3 (ipykernel)",
   "language": "python",
   "name": "python3"
  },
  "language_info": {
   "codemirror_mode": {
    "name": "ipython",
    "version": 3
   },
   "file_extension": ".py",
   "mimetype": "text/x-python",
   "name": "python",
   "nbconvert_exporter": "python",
   "pygments_lexer": "ipython3",
   "version": "3.9.7"
  }
 },
 "nbformat": 4,
 "nbformat_minor": 5
}
